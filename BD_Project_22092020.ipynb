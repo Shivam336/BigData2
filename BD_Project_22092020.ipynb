{
 "cells": [
  {
   "cell_type": "code",
   "execution_count": 356,
   "metadata": {},
   "outputs": [],
   "source": [
    "#@author Shivam Singhal\n",
    "import pandas\n",
    "import matplotlib.pyplot as plt\n",
    "import networkx as nx\n",
    "from datetime import datetime\n",
    "import itertools\n",
    "import time\n",
    "import operator\n",
    "%matplotlib inline"
   ]
  },
  {
   "cell_type": "code",
   "execution_count": 357,
   "metadata": {},
   "outputs": [],
   "source": [
    "data = pandas.read_csv('BreadBasket_DMS.csv')"
   ]
  },
  {
   "cell_type": "code",
   "execution_count": 358,
   "metadata": {},
   "outputs": [
    {
     "data": {
      "text/plain": [
       "Item\n",
       "Coffee           5471\n",
       "Bread            3325\n",
       "Tea              1435\n",
       "Cake             1025\n",
       "Pastry            856\n",
       "NONE              786\n",
       "Sandwich          771\n",
       "Medialuna         616\n",
       "Hot chocolate     590\n",
       "Cookies           540\n",
       "dtype: int64"
      ]
     },
     "execution_count": 358,
     "metadata": {},
     "output_type": "execute_result"
    }
   ],
   "source": [
    "#1.     Find out the frequency of top 10 selling items.    \n",
    "data.groupby('Item').size().sort_values(ascending = False).head(10)"
   ]
  },
  {
   "cell_type": "code",
   "execution_count": 359,
   "metadata": {},
   "outputs": [
    {
     "data": {
      "text/plain": [
       "Item\n",
       "Coffee    2214\n",
       "Bread     1390\n",
       "Tea        577\n",
       "NONE       417\n",
       "Pastry     366\n",
       "dtype: int64"
      ]
     },
     "execution_count": 359,
     "metadata": {},
     "output_type": "execute_result"
    }
   ],
   "source": [
    "#2.     Find out the five most popular bakery items in 2016.\n",
    "data2 = data[data.Date <= '2016-12-31']\n",
    "data2.groupby('Item').size().sort_values(ascending = False).head(5)"
   ]
  },
  {
   "cell_type": "code",
   "execution_count": 360,
   "metadata": {},
   "outputs": [
    {
     "data": {
      "text/plain": [
       "Item\n",
       "Coffee      3257\n",
       "Bread       1935\n",
       "Tea          858\n",
       "Cake         762\n",
       "Sandwich     536\n",
       "dtype: int64"
      ]
     },
     "execution_count": 360,
     "metadata": {},
     "output_type": "execute_result"
    }
   ],
   "source": [
    "#3.     Find out the five most popular bakery items in 2017.      \n",
    "data3 = data[data.Date > '2016-12-31']\n",
    "data3.groupby('Item').size().sort_values(ascending = False).head(5)"
   ]
  },
  {
   "cell_type": "code",
   "execution_count": 361,
   "metadata": {},
   "outputs": [
    {
     "data": {
      "text/plain": [
       "Item\n",
       "Coffee      681\n",
       "Bread       360\n",
       "Tea         193\n",
       "Pastry      105\n",
       "Sandwich    101\n",
       "dtype: int64"
      ]
     },
     "execution_count": 361,
     "metadata": {},
     "output_type": "execute_result"
    }
   ],
   "source": [
    "#4.     Find out the five most popular items sold on Monday.\n",
    "data['Date_Time'] = pandas.to_datetime(data['Date']+\" \"+data['Time'])\n",
    "data['Day'] = data['Date_Time'].dt.dayofweek\n",
    "data4 = data[data.Day == 0]\n",
    "data4.groupby('Item').size().sort_values(ascending = False).head(5)"
   ]
  },
  {
   "cell_type": "code",
   "execution_count": 362,
   "metadata": {},
   "outputs": [
    {
     "data": {
      "text/plain": [
       "1     3509\n",
       "2     3991\n",
       "3     4041\n",
       "4     1191\n",
       "10     385\n",
       "11    4607\n",
       "12    3569\n",
       "Name: Month, dtype: int64"
      ]
     },
     "execution_count": 362,
     "metadata": {},
     "output_type": "execute_result"
    }
   ],
   "source": [
    "#5.     Find out the number of items sold per month.\n",
    "data['Month'] = data['Date_Time'].dt.month\n",
    "data5 = data['Month'].value_counts()\n",
    "data5.sort_index()"
   ]
  },
  {
   "cell_type": "code",
   "execution_count": 363,
   "metadata": {},
   "outputs": [
    {
     "data": {
      "text/plain": [
       "0    2394\n",
       "1    2480\n",
       "2    2429\n",
       "3    2719\n",
       "4    3235\n",
       "5    4803\n",
       "6    3233\n",
       "Name: Day, dtype: int64"
      ]
     },
     "execution_count": 363,
     "metadata": {},
     "output_type": "execute_result"
    }
   ],
   "source": [
    "#6.     Find out the number of items sold per weekday. \n",
    "data5 = data['Day'].value_counts()\n",
    "data5.sort_index()"
   ]
  },
  {
   "cell_type": "code",
   "execution_count": 364,
   "metadata": {},
   "outputs": [
    {
     "data": {
      "text/plain": [
       "1        1\n",
       "7       25\n",
       "8      669\n",
       "9     2045\n",
       "10    2763\n",
       "11    3216\n",
       "12    3021\n",
       "13    2776\n",
       "14    2736\n",
       "15    2147\n",
       "16    1356\n",
       "17     372\n",
       "18      82\n",
       "19      48\n",
       "20      22\n",
       "21       3\n",
       "22       8\n",
       "23       3\n",
       "Name: Hour, dtype: int64"
      ]
     },
     "execution_count": 364,
     "metadata": {},
     "output_type": "execute_result"
    }
   ],
   "source": [
    "#7.     Find out the number of transactions per hour. \n",
    "data['Hour'] = data['Date_Time'].dt.hour\n",
    "data7 = data['Hour'].value_counts()\n",
    "data7.sort_index()"
   ]
  },
  {
   "cell_type": "code",
   "execution_count": 365,
   "metadata": {},
   "outputs": [],
   "source": [
    "#8.     Find out the best item combinations with coffee.    \n"
   ]
  },
  {
   "cell_type": "code",
   "execution_count": 369,
   "metadata": {},
   "outputs": [
    {
     "name": "stderr",
     "output_type": "stream",
     "text": [
      "C:\\Users\\Shivam\\Anaconda3\\lib\\site-packages\\ipykernel_launcher.py:3: UserWarning: Boolean Series key will be reindexed to match DataFrame index.\n",
      "  This is separate from the ipykernel package so we can avoid doing imports until\n"
     ]
    },
    {
     "data": {
      "text/plain": [
       "Date\n",
       "2017-02-04    72\n",
       "2017-03-04    57\n",
       "2017-02-26    57\n",
       "2017-01-28    56\n",
       "2017-02-05    55\n",
       "dtype: int64"
      ]
     },
     "execution_count": 369,
     "metadata": {},
     "output_type": "execute_result"
    }
   ],
   "source": [
    "#9.     Find out the five most Coffee Sales day in 2017.\n",
    "data9a = data[data.Date > '2016-12-31']\n",
    "data9b = data9a[data.Item=='Coffee']\n",
    "data9b.groupby('Date').size().sort_values(ascending = False).head(5)"
   ]
  },
  {
   "cell_type": "code",
   "execution_count": 367,
   "metadata": {},
   "outputs": [],
   "source": [
    "#10. Find out historical chart of Bread sold throughout the week.   \n"
   ]
  }
 ],
 "metadata": {
  "kernelspec": {
   "display_name": "Python 3",
   "language": "python",
   "name": "python3"
  },
  "language_info": {
   "codemirror_mode": {
    "name": "ipython",
    "version": 3
   },
   "file_extension": ".py",
   "mimetype": "text/x-python",
   "name": "python",
   "nbconvert_exporter": "python",
   "pygments_lexer": "ipython3",
   "version": "3.7.3"
  }
 },
 "nbformat": 4,
 "nbformat_minor": 2
}
