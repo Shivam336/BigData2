{
 "cells": [
  {
   "cell_type": "code",
   "execution_count": 40,
   "metadata": {},
   "outputs": [],
   "source": [
    "#@author Shivam Singhal\n",
    "import pandas\n",
    "import matplotlib.pyplot as plt\n",
    "import networkx as nx\n",
    "from datetime import datetime\n",
    "import itertools\n",
    "import time\n",
    "import operator\n",
    "%matplotlib inline\n",
    "from apyori import apriori"
   ]
  },
  {
   "cell_type": "code",
   "execution_count": 97,
   "metadata": {},
   "outputs": [],
   "source": [
    "data = pandas.read_csv('BreadBasket_DMS.csv')\n"
   ]
  },
  {
   "cell_type": "code",
   "execution_count": 79,
   "metadata": {},
   "outputs": [],
   "source": [
    "transaction = []\n",
    "for i in range(0,21293):\n",
    "    transaction.append([str(data.values[i,j]) for j in range(0,4)])"
   ]
  },
  {
   "cell_type": "code",
   "execution_count": 93,
   "metadata": {},
   "outputs": [
    {
     "name": "stdout",
     "output_type": "stream",
     "text": [
      "0\n",
      "0\n",
      "0\n",
      "0\n",
      "0\n",
      "0\n",
      "0\n",
      "1\n",
      "2\n"
     ]
    }
   ],
   "source": [
    "#4.     How many rules are generated with a support level of 5% and a confidence level of 90%, 80%, 70%, 60%, 50%, 40%, 30%, 20%, 10%? Also visualized the generated rules.     \n",
    "\n",
    "#90%\n",
    "rules  = apriori(transaction,min_support=0.05,min_confidence=0.9)\n",
    "rules_result = list(rules)\n",
    "print(len(rules_result))\n",
    "\n",
    "#80%\n",
    "rules  = apriori(transaction,min_support=0.05,min_confidence=0.8)\n",
    "rules_result = list(rules)\n",
    "print(len(rules_result))\n",
    "\n",
    "\n",
    "#70%\n",
    "rules  = apriori(transaction,min_support=0.05,min_confidence=0.7)\n",
    "rules_result = list(rules)\n",
    "print(len(rules_result))\n",
    "\n",
    "#60%\n",
    "rules  = apriori(transaction,min_support=0.05,min_confidence=0.6)\n",
    "rules_result = list(rules)\n",
    "print(len(rules_result))\n",
    "\n",
    "#50%\n",
    "rules  = apriori(transaction,min_support=0.05,min_confidence=0.5)\n",
    "rules_result = list(rules)\n",
    "print(len(rules_result))\n",
    "\n",
    "#40%\n",
    "rules  = apriori(transaction,min_support=0.05,min_confidence=0.4)\n",
    "rules_result = list(rules)\n",
    "print(len(rules_result))\n",
    "\n",
    "#30%\n",
    "rules  = apriori(transaction,min_support=0.05,min_confidence=0.3)\n",
    "rules_result = list(rules)\n",
    "print(len(rules_result))\n",
    "\n",
    "\n",
    "#20%\n",
    "rules  = apriori(transaction,min_support=0.05,min_confidence=0.2)\n",
    "rules_result = list(rules)\n",
    "print(len(rules_result))\n",
    "\n",
    "\n",
    "#10%\n",
    "rules  = apriori(transaction,min_support=0.05,min_confidence=0.1)\n",
    "rules_result = list(rules)\n",
    "print(len(rules_result))"
   ]
  },
  {
   "cell_type": "code",
   "execution_count": 95,
   "metadata": {},
   "outputs": [
    {
     "name": "stdout",
     "output_type": "stream",
     "text": [
      "0\n",
      "0\n",
      "0\n",
      "0\n",
      "0\n",
      "0\n",
      "0\n",
      "1\n",
      "2\n"
     ]
    }
   ],
   "source": [
    "#5.     How many rules are generated with a support level of 1% and a confidence level of 90%, 80%, 70%, 60%, 50%, 40%, 30%, 20%, 10%? Also visualized the generated rules.   \n",
    "\n",
    "#90%\n",
    "rules  = apriori(transaction,min_support=0.01,min_confidence=0.9)\n",
    "rules_result = list(rules)\n",
    "print(len(rules_result))\n",
    "\n",
    "#80%\n",
    "rules  = apriori(transaction,min_support=0.01,min_confidence=0.8)\n",
    "rules_result = list(rules)\n",
    "print(len(rules_result))\n",
    "\n",
    "\n",
    "#70%\n",
    "rules  = apriori(transaction,min_support=0.01,min_confidence=0.7)\n",
    "rules_result = list(rules)\n",
    "print(len(rules_result))\n",
    "\n",
    "#60%\n",
    "rules  = apriori(transaction,min_support=0.01,min_confidence=0.6)\n",
    "rules_result = list(rules)\n",
    "print(len(rules_result))\n",
    "\n",
    "#50%\n",
    "rules  = apriori(transaction,min_support=0.01,min_confidence=0.5)\n",
    "rules_result = list(rules)\n",
    "print(len(rules_result))\n",
    "\n",
    "#40%\n",
    "rules  = apriori(transaction,min_support=0.01,min_confidence=0.4)\n",
    "rules_result = list(rules)\n",
    "print(len(rules_result))\n",
    "\n",
    "#30%\n",
    "rules  = apriori(transaction,min_support=0.01,min_confidence=0.3)\n",
    "rules_result = list(rules)\n",
    "print(len(rules_result))\n",
    "\n",
    "\n",
    "#20%\n",
    "rules  = apriori(transaction,min_support=0.01,min_confidence=0.2)\n",
    "rules_result = list(rules)\n",
    "print(len(rules_result))\n",
    "\n",
    "\n",
    "#10%\n",
    "rules  = apriori(transaction,min_support=0.01,min_confidence=0.1)\n",
    "rules_result = list(rules)\n",
    "print(len(rules_result))"
   ]
  },
  {
   "cell_type": "code",
   "execution_count": 96,
   "metadata": {},
   "outputs": [
    {
     "name": "stdout",
     "output_type": "stream",
     "text": [
      "0\n",
      "0\n",
      "0\n",
      "0\n",
      "0\n",
      "0\n",
      "0\n",
      "1\n",
      "2\n"
     ]
    }
   ],
   "source": [
    "#6.   How many rules are generated with a support level of 0.5% and a confidence level of 90%, 80%, 70%, 60%, 50%, 40%, 30%, 20%, 10%? Also visualized the generated rules.  \n",
    "\n",
    "#90%\n",
    "rules  = apriori(transaction,min_support=0.005,min_confidence=0.9)\n",
    "rules_result = list(rules)\n",
    "print(len(rules_result))\n",
    "\n",
    "#80%\n",
    "rules  = apriori(transaction,min_support=0.005,min_confidence=0.8)\n",
    "rules_result = list(rules)\n",
    "print(len(rules_result))\n",
    "\n",
    "\n",
    "#70%\n",
    "rules  = apriori(transaction,min_support=0.005,min_confidence=0.7)\n",
    "rules_result = list(rules)\n",
    "print(len(rules_result))\n",
    "\n",
    "#60%\n",
    "rules  = apriori(transaction,min_support=0.005,min_confidence=0.6)\n",
    "rules_result = list(rules)\n",
    "print(len(rules_result))\n",
    "\n",
    "#50%\n",
    "rules  = apriori(transaction,min_support=0.005,min_confidence=0.5)\n",
    "rules_result = list(rules)\n",
    "print(len(rules_result))\n",
    "\n",
    "#40%\n",
    "rules  = apriori(transaction,min_support=0.005,min_confidence=0.4)\n",
    "rules_result = list(rules)\n",
    "print(len(rules_result))\n",
    "\n",
    "#30%\n",
    "rules  = apriori(transaction,min_support=0.005,min_confidence=0.3)\n",
    "rules_result = list(rules)\n",
    "print(len(rules_result))\n",
    "\n",
    "\n",
    "#20%\n",
    "rules  = apriori(transaction,min_support=0.005,min_confidence=0.2)\n",
    "rules_result = list(rules)\n",
    "print(len(rules_result))\n",
    "\n",
    "\n",
    "#10%\n",
    "rules  = apriori(transaction,min_support=0.005,min_confidence=0.1)\n",
    "rules_result = list(rules)\n",
    "print(len(rules_result))"
   ]
  },
  {
   "cell_type": "code",
   "execution_count": null,
   "metadata": {},
   "outputs": [],
   "source": []
  }
 ],
 "metadata": {
  "kernelspec": {
   "display_name": "Python 3",
   "language": "python",
   "name": "python3"
  },
  "language_info": {
   "codemirror_mode": {
    "name": "ipython",
    "version": 3
   },
   "file_extension": ".py",
   "mimetype": "text/x-python",
   "name": "python",
   "nbconvert_exporter": "python",
   "pygments_lexer": "ipython3",
   "version": "3.7.3"
  }
 },
 "nbformat": 4,
 "nbformat_minor": 2
}
